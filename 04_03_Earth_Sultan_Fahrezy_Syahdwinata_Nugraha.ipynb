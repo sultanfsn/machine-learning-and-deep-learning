{
  "nbformat": 4,
  "nbformat_minor": 0,
  "metadata": {
    "colab": {
      "provenance": []
    },
    "kernelspec": {
      "name": "python3",
      "display_name": "Python 3"
    },
    "language_info": {
      "name": "python"
    }
  },
  "cells": [
    {
      "cell_type": "code",
      "execution_count": null,
      "metadata": {
        "id": "KyRMRLWRa-Z8"
      },
      "outputs": [],
      "source": [
        "import torch\n",
        "import torchvision\n",
        "import torchvision.transforms as transforms"
      ]
    },
    {
      "cell_type": "code",
      "source": [
        "import torchvision.datasets as datasets\n",
        "\n",
        "transform = transforms.Compose(\n",
        "    [transforms.ToTensor(),\n",
        "    transforms.Normalize((0.5,), (0.5,))])\n",
        "\n",
        "mnist_trainset = datasets.MNIST(root='./data', train=True, download=True, transform=transform)\n",
        "mnist_testset = datasets.MNIST(root='./data', train=False, download=True, transform=transform)\n",
        "\n",
        "training_loader = torch.utils.data.DataLoader(mnist_trainset, batch_size=4, shuffle=True)\n",
        "validation_loader = torch.utils.data.DataLoader(mnist_testset, batch_size=4, shuffle=False)"
      ],
      "metadata": {
        "id": "dXxhijozoaP6"
      },
      "execution_count": null,
      "outputs": []
    },
    {
      "cell_type": "code",
      "source": [
        "len(mnist_trainset)\n",
        "type(mnist_trainset)"
      ],
      "metadata": {
        "colab": {
          "base_uri": "https://localhost:8080/"
        },
        "id": "2KMjMUeMpemU",
        "outputId": "8aa953cb-b112-44f7-e940-9fd71ac3f034"
      },
      "execution_count": null,
      "outputs": [
        {
          "output_type": "execute_result",
          "data": {
            "text/plain": [
              "torchvision.datasets.mnist.MNIST"
            ]
          },
          "metadata": {},
          "execution_count": 16
        }
      ]
    },
    {
      "cell_type": "code",
      "source": [
        "import numpy as np\n",
        "import matplotlib.pyplot as plt\n",
        "\n",
        "# You can put between 0 to 59999 here\n",
        "index = 40\n",
        "\n",
        "# Set number of characters per row when printing\n",
        "np.set_printoptions(linewidth=320)\n",
        "\n",
        "# Print the label and image\n",
        "print(f'LABEL: {mnist_trainset.__getitem__(index)[1]}')\n",
        "print(f'\\nIMAGE PIXEL ARRAY:\\n {mnist_trainset.__getitem__(index)[0]}')\n",
        "\n",
        "# Visualize the image\n",
        "plt.imshow(mnist_trainset.__getitem__(index)[0])"
      ],
      "metadata": {
        "colab": {
          "base_uri": "https://localhost:8080/",
          "height": 521
        },
        "id": "qutqK3FXozyG",
        "outputId": "36ec2251-5ce7-45c3-d44b-cd1cfb47b6a8"
      },
      "execution_count": null,
      "outputs": [
        {
          "output_type": "stream",
          "name": "stdout",
          "text": [
            "LABEL: 1\n",
            "\n",
            "IMAGE PIXEL ARRAY:\n",
            " <PIL.Image.Image image mode=L size=28x28 at 0x7CB60CFBA350>\n"
          ]
        },
        {
          "output_type": "execute_result",
          "data": {
            "text/plain": [
              "<matplotlib.image.AxesImage at 0x7cb60d0306d0>"
            ]
          },
          "metadata": {},
          "execution_count": 7
        },
        {
          "output_type": "display_data",
          "data": {
            "text/plain": [
              "<Figure size 640x480 with 1 Axes>"
            ],
            "image/png": "[encoded data removed]"
          },
          "metadata": {}
        }
      ]
    },
    {
      "cell_type": "code",
      "source": [
        "device = (\n",
        "    \"cuda\"\n",
        "    if torch.cuda.is_available()\n",
        "    else \"mps\"\n",
        "    if torch.backends.mps.is_available()\n",
        "    else \"cpu\"\n",
        ")\n",
        "print(f\"Using {device} device\")"
      ],
      "metadata": {
        "colab": {
          "base_uri": "https://localhost:8080/"
        },
        "id": "Me5Ah0jhqCQk",
        "outputId": "e260cf0d-a65f-4d43-d5df-5a61b458457b"
      },
      "execution_count": null,
      "outputs": [
        {
          "output_type": "stream",
          "name": "stdout",
          "text": [
            "Using cpu device\n"
          ]
        }
      ]
    },
    {
      "cell_type": "code",
      "source": [
        "import torch.nn as nn\n",
        "import torch.nn.functional as F\n",
        "\n",
        "class NeuralNetwork(nn.Module):\n",
        "    def __init__(self):\n",
        "        super().__init__()\n",
        "        self.flatten = nn.Flatten()\n",
        "        self.linear_relu_stack = nn.Sequential(\n",
        "            nn.Linear(28*28, 512),\n",
        "            nn.ReLU(),\n",
        "            nn.Linear(512, 512),\n",
        "            nn.ReLU(),\n",
        "            nn.Linear(512,10),\n",
        "        )\n",
        "\n",
        "    def forward(self, x):\n",
        "        x = self.flatten(x)\n",
        "        logits = self.linear_relu_stack(x)\n",
        "        return logits\n",
        "\n",
        "model = NeuralNetwork()"
      ],
      "metadata": {
        "id": "5WIBApL5qrjX"
      },
      "execution_count": null,
      "outputs": []
    },
    {
      "cell_type": "code",
      "source": [
        "loss_fn = torch.nn.CrossEntropyLoss()\n",
        "optimizer = torch.optim.SGD(model.parameters(), lr=0.001, momentum=0.9)"
      ],
      "metadata": {
        "id": "jeyCFYRBtn26"
      },
      "execution_count": null,
      "outputs": []
    },
    {
      "cell_type": "code",
      "source": [
        "def train_one_epoch(epoch_index, tb_writer):\n",
        "    running_loss = 0.\n",
        "    last_loss = 0.\n",
        "    acc = 0.\n",
        "\n",
        "    # Here, we use enumerate(training_loader) instead of\n",
        "    # iter(training_loader) so that we can track the batch\n",
        "    # index and do some intra-epoch reporting\n",
        "    for i, data in enumerate(training_loader):\n",
        "        # Every data instance is an input + label pair\n",
        "        inputs, labels = data\n",
        "\n",
        "        # Zero your gradients for every batch!\n",
        "        optimizer.zero_grad()\n",
        "\n",
        "        # Make predictions for this batch\n",
        "        outputs = model(inputs)\n",
        "\n",
        "        # Compute the loss and its gradients\n",
        "        loss = loss_fn(outputs, labels)\n",
        "        loss.backward()\n",
        "\n",
        "\n",
        "        # Adjust learning weights\n",
        "        optimizer.step()\n",
        "\n",
        "        # Gather data and report\n",
        "        running_loss += loss.item()\n",
        "        if i % 1000 == 999:\n",
        "            last_loss = running_loss / 1000 # loss per batch\n",
        "            print('  batch {} loss: {}'.format(i + 1, last_loss))\n",
        "            tb_x = epoch_index * len(training_loader) + i + 1\n",
        "            tb_writer.add_scalar('Loss/train', last_loss, tb_x)\n",
        "            running_loss = 0.\n",
        "\n",
        "    return last_loss"
      ],
      "metadata": {
        "id": "RygB1zKTtt6w"
      },
      "execution_count": null,
      "outputs": []
    },
    {
      "cell_type": "code",
      "source": [
        "from torch.utils.tensorboard import SummaryWriter\n",
        "from datetime import datetime\n",
        "\n",
        "# Initializing in a separate cell so we can easily add more epochs to the same run\n",
        "timestamp = datetime.now().strftime('%Y%m%d_%H%M%S')\n",
        "writer = SummaryWriter('runs/fashion_trainer_{}'.format(timestamp))\n",
        "epoch_number = 0\n",
        "\n",
        "EPOCHS = 5\n",
        "\n",
        "best_vloss = 1_000_000.\n",
        "\n",
        "for epoch in range(EPOCHS):\n",
        "    print('EPOCH {}:'.format(epoch_number + 1))\n",
        "\n",
        "    # Make sure gradient tracking is on, and do a pass over the data\n",
        "    model.train(True)\n",
        "    avg_loss = train_one_epoch(epoch_number, writer)\n",
        "\n",
        "\n",
        "    running_vloss = 0.0\n",
        "    # Set the model to evaluation mode, disabling dropout and using population\n",
        "    # statistics for batch normalization.\n",
        "    model.eval()\n",
        "\n",
        "    # Disable gradient computation and reduce memory consumption.\n",
        "    with torch.no_grad():\n",
        "        for i, vdata in enumerate(validation_loader):\n",
        "            vinputs, vlabels = vdata\n",
        "            voutputs = model(vinputs)\n",
        "            vloss = loss_fn(voutputs, vlabels)\n",
        "            running_vloss += vloss\n",
        "\n",
        "    avg_vloss = running_vloss / (i + 1)\n",
        "    print('LOSS train {} valid {}'.format(avg_loss, avg_vloss))\n",
        "\n",
        "    # Log the running loss averaged per batch\n",
        "    # for both training and validation\n",
        "    writer.add_scalars('Training vs. Validation Loss',\n",
        "                    { 'Training' : avg_loss, 'Validation' : avg_vloss },\n",
        "                    epoch_number + 1)\n",
        "    writer.flush()\n",
        "\n",
        "    # Track best performance, and save the model's state\n",
        "    if avg_vloss < best_vloss:\n",
        "        best_vloss = avg_vloss\n",
        "        model_path = 'model_{}_{}'.format(timestamp, epoch_number)\n",
        "        torch.save(model.state_dict(), model_path)\n",
        "\n",
        "    epoch_number += 1"
      ],
      "metadata": {
        "colab": {
          "base_uri": "https://localhost:8080/"
        },
        "id": "fAaZaIucuCmI",
        "outputId": "034178ee-e1b9-4052-a24b-73ae8092efb4"
      },
      "execution_count": null,
      "outputs": [
        {
          "output_type": "stream",
          "name": "stdout",
          "text": [
            "EPOCH 1:\n",
            "  batch 1000 loss: 2.3022861025333405\n",
            "  batch 2000 loss: 2.301105772972107\n",
            "  batch 3000 loss: 2.298769552707672\n",
            "  batch 4000 loss: 2.3012812614440916\n",
            "  batch 5000 loss: 2.2985592193603517\n",
            "  batch 6000 loss: 2.3014400453567503\n",
            "  batch 7000 loss: 2.3012797544002535\n",
            "  batch 8000 loss: 2.301996893167496\n",
            "  batch 9000 loss: 2.3013648171424865\n",
            "  batch 10000 loss: 2.3034223799705504\n",
            "  batch 11000 loss: 2.299433210372925\n",
            "  batch 12000 loss: 2.3035750155448915\n",
            "  batch 13000 loss: 2.3031474494934083\n",
            "  batch 14000 loss: 2.3017159514427186\n",
            "  batch 15000 loss: 2.3036071438789367\n",
            "LOSS train 2.3036071438789367 valid 2.299274444580078\n",
            "EPOCH 2:\n",
            "  batch 1000 loss: 2.300747334241867\n",
            "  batch 2000 loss: 2.3002480518817903\n",
            "  batch 3000 loss: 2.3007548253536223\n",
            "  batch 4000 loss: 2.303999205350876\n",
            "  batch 5000 loss: 2.29958197593689\n",
            "  batch 6000 loss: 2.301960282325745\n",
            "  batch 7000 loss: 2.3033778479099274\n",
            "  batch 8000 loss: 2.2998592534065248\n",
            "  batch 9000 loss: 2.302435200214386\n",
            "  batch 10000 loss: 2.301231376886368\n",
            "  batch 11000 loss: 2.3009616622924804\n",
            "  batch 12000 loss: 2.3027300193309785\n",
            "  batch 13000 loss: 2.299799087047577\n",
            "  batch 14000 loss: 2.3025413177013396\n",
            "  batch 15000 loss: 2.302757132768631\n",
            "LOSS train 2.302757132768631 valid 2.299274444580078\n",
            "EPOCH 3:\n",
            "  batch 1000 loss: 2.299206057548523\n",
            "  batch 2000 loss: 2.302822104215622\n",
            "  batch 3000 loss: 2.297942744255066\n",
            "  batch 4000 loss: 2.3000231738090515\n",
            "  batch 5000 loss: 2.302243038415909\n",
            "  batch 6000 loss: 2.3039292640686035\n",
            "  batch 7000 loss: 2.3012550728321077\n",
            "  batch 8000 loss: 2.303806398630142\n",
            "  batch 9000 loss: 2.3002686417102813\n",
            "  batch 10000 loss: 2.297823537826538\n",
            "  batch 11000 loss: 2.302118198633194\n",
            "  batch 12000 loss: 2.3025755078792574\n",
            "  batch 13000 loss: 2.3019791362285615\n",
            "  batch 14000 loss: 2.301721515417099\n",
            "  batch 15000 loss: 2.305270170211792\n",
            "LOSS train 2.305270170211792 valid 2.299274444580078\n",
            "EPOCH 4:\n",
            "  batch 1000 loss: 2.2999976806640623\n",
            "  batch 2000 loss: 2.302595042228699\n",
            "  batch 3000 loss: 2.3002073616981504\n",
            "  batch 4000 loss: 2.299992346048355\n",
            "  batch 5000 loss: 2.3007212665081025\n",
            "  batch 6000 loss: 2.3037024145126344\n",
            "  batch 7000 loss: 2.2994463090896606\n",
            "  batch 8000 loss: 2.302000725030899\n",
            "  batch 9000 loss: 2.3011480722427367\n",
            "  batch 10000 loss: 2.299357573032379\n",
            "  batch 11000 loss: 2.304637956380844\n",
            "  batch 12000 loss: 2.301653563261032\n",
            "  batch 13000 loss: 2.302115475654602\n",
            "  batch 14000 loss: 2.300878666162491\n",
            "  batch 15000 loss: 2.304530127286911\n",
            "LOSS train 2.304530127286911 valid 2.299274444580078\n",
            "EPOCH 5:\n",
            "  batch 1000 loss: 2.300270369529724\n",
            "  batch 2000 loss: 2.299898356437683\n",
            "  batch 3000 loss: 2.301977374315262\n",
            "  batch 4000 loss: 2.3007589416503906\n",
            "  batch 5000 loss: 2.302575032711029\n",
            "  batch 6000 loss: 2.302707800865173\n",
            "  batch 7000 loss: 2.3041095480918883\n",
            "  batch 8000 loss: 2.3033460080623627\n",
            "  batch 9000 loss: 2.300249722480774\n",
            "  batch 10000 loss: 2.3004837250709533\n",
            "  batch 11000 loss: 2.29890850520134\n",
            "  batch 12000 loss: 2.303298555850983\n",
            "  batch 13000 loss: 2.300778213262558\n",
            "  batch 14000 loss: 2.302975322008133\n",
            "  batch 15000 loss: 2.3006471185684205\n",
            "LOSS train 2.3006471185684205 valid 2.299274444580078\n"
          ]
        }
      ]
    },
    {
      "cell_type": "markdown",
      "source": [
        "# Penjelasan Model\n",
        "Ini merupakan model squensial dengan input linear 28*28 dan output linear juga dengan 10 kelas output sesuai dengan kelas MNIST. Terdapat hidden layer ReLU dan Linear pada model ini. Model ini menggunakan loss function CrossEntropy dan Optimizer SGD dengan learning rate 0.001 dan momenntum 0.9. Model ini ditrain sebanyak 5 kali epoch dengan satu epoch memiliki jumlah batch 15000, karena satu batch terdapat 4 data."
      ],
      "metadata": {
        "id": "LaqLiDtgbbt9"
      }
    },
    {
      "cell_type": "code",
      "source": [],
      "metadata": {
        "id": "p6Gz8lDwcRQB"
      },
      "execution_count": null,
      "outputs": []
    }
  ]
}